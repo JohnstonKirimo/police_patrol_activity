{
 "cells": [
  {
   "cell_type": "markdown",
   "metadata": {},
   "source": [
    "## Table of Contents\n",
    "\n",
    "##### Importing Libraries\n",
    "##### Reading Data\n",
    "##### Data Analysis"
   ]
  },
  {
   "cell_type": "code",
   "execution_count": 1,
   "metadata": {},
   "outputs": [],
   "source": [
    "import pandas as pd\n",
    "import numpy as np\n",
    "%matplotlib inline\n",
    "import matplotlib.pyplot as plt\n",
    "import math"
   ]
  },
  {
   "cell_type": "code",
   "execution_count": 2,
   "metadata": {},
   "outputs": [
    {
     "data": {
      "text/html": [
       "<div>\n",
       "<style scoped>\n",
       "    .dataframe tbody tr th:only-of-type {\n",
       "        vertical-align: middle;\n",
       "    }\n",
       "\n",
       "    .dataframe tbody tr th {\n",
       "        vertical-align: top;\n",
       "    }\n",
       "\n",
       "    .dataframe thead th {\n",
       "        text-align: right;\n",
       "    }\n",
       "</style>\n",
       "<table border=\"1\" class=\"dataframe\">\n",
       "  <thead>\n",
       "    <tr style=\"text-align: right;\">\n",
       "      <th></th>\n",
       "      <th>raw_row_number</th>\n",
       "      <th>date</th>\n",
       "      <th>time</th>\n",
       "      <th>location</th>\n",
       "      <th>lat</th>\n",
       "      <th>lng</th>\n",
       "      <th>district</th>\n",
       "      <th>service_area</th>\n",
       "      <th>subject_age</th>\n",
       "      <th>subject_race</th>\n",
       "      <th>...</th>\n",
       "      <th>arrest_made</th>\n",
       "      <th>outcome</th>\n",
       "      <th>contraband_found</th>\n",
       "      <th>frisk_performed</th>\n",
       "      <th>search_conducted</th>\n",
       "      <th>search_person</th>\n",
       "      <th>search_vehicle</th>\n",
       "      <th>raw_race</th>\n",
       "      <th>raw_individual_contraband</th>\n",
       "      <th>raw_vehicle_contraband</th>\n",
       "    </tr>\n",
       "  </thead>\n",
       "  <tbody>\n",
       "    <tr>\n",
       "      <td>0</td>\n",
       "      <td>411981</td>\n",
       "      <td>2014-01-01</td>\n",
       "      <td>1:14:00</td>\n",
       "      <td>NaN</td>\n",
       "      <td>NaN</td>\n",
       "      <td>NaN</td>\n",
       "      <td>19.0</td>\n",
       "      <td>191</td>\n",
       "      <td>31.0</td>\n",
       "      <td>black</td>\n",
       "      <td>...</td>\n",
       "      <td>True</td>\n",
       "      <td>arrest</td>\n",
       "      <td>True</td>\n",
       "      <td>False</td>\n",
       "      <td>True</td>\n",
       "      <td>True</td>\n",
       "      <td>False</td>\n",
       "      <td>Black - Non-Latino</td>\n",
       "      <td>True</td>\n",
       "      <td>False</td>\n",
       "    </tr>\n",
       "    <tr>\n",
       "      <td>1</td>\n",
       "      <td>407442</td>\n",
       "      <td>2014-01-01</td>\n",
       "      <td>1:57:00</td>\n",
       "      <td>NaN</td>\n",
       "      <td>NaN</td>\n",
       "      <td>NaN</td>\n",
       "      <td>12.0</td>\n",
       "      <td>121</td>\n",
       "      <td>21.0</td>\n",
       "      <td>black</td>\n",
       "      <td>...</td>\n",
       "      <td>True</td>\n",
       "      <td>arrest</td>\n",
       "      <td>False</td>\n",
       "      <td>True</td>\n",
       "      <td>True</td>\n",
       "      <td>True</td>\n",
       "      <td>False</td>\n",
       "      <td>Black - Non-Latino</td>\n",
       "      <td>False</td>\n",
       "      <td>False</td>\n",
       "    </tr>\n",
       "    <tr>\n",
       "      <td>2</td>\n",
       "      <td>217556</td>\n",
       "      <td>2014-01-01</td>\n",
       "      <td>3:30:00</td>\n",
       "      <td>3400 BLOCK SPRUCE ST</td>\n",
       "      <td>39.950424</td>\n",
       "      <td>-75.192680</td>\n",
       "      <td>18.0</td>\n",
       "      <td>183</td>\n",
       "      <td>24.0</td>\n",
       "      <td>black</td>\n",
       "      <td>...</td>\n",
       "      <td>False</td>\n",
       "      <td>NaN</td>\n",
       "      <td>NaN</td>\n",
       "      <td>False</td>\n",
       "      <td>False</td>\n",
       "      <td>False</td>\n",
       "      <td>False</td>\n",
       "      <td>Black - Non-Latino</td>\n",
       "      <td>False</td>\n",
       "      <td>False</td>\n",
       "    </tr>\n",
       "    <tr>\n",
       "      <td>3</td>\n",
       "      <td>217557</td>\n",
       "      <td>2014-01-01</td>\n",
       "      <td>3:40:00</td>\n",
       "      <td>3400 BLOCK SPRUCE ST</td>\n",
       "      <td>39.950424</td>\n",
       "      <td>-75.192680</td>\n",
       "      <td>18.0</td>\n",
       "      <td>183</td>\n",
       "      <td>20.0</td>\n",
       "      <td>black</td>\n",
       "      <td>...</td>\n",
       "      <td>False</td>\n",
       "      <td>NaN</td>\n",
       "      <td>NaN</td>\n",
       "      <td>False</td>\n",
       "      <td>False</td>\n",
       "      <td>False</td>\n",
       "      <td>False</td>\n",
       "      <td>Black - Non-Latino</td>\n",
       "      <td>False</td>\n",
       "      <td>False</td>\n",
       "    </tr>\n",
       "    <tr>\n",
       "      <td>4</td>\n",
       "      <td>230988</td>\n",
       "      <td>2014-01-01</td>\n",
       "      <td>8:30:00</td>\n",
       "      <td>N 56TH ST / UPLAND WAY</td>\n",
       "      <td>39.983712</td>\n",
       "      <td>-75.234188</td>\n",
       "      <td>19.0</td>\n",
       "      <td>193</td>\n",
       "      <td>31.0</td>\n",
       "      <td>black</td>\n",
       "      <td>...</td>\n",
       "      <td>False</td>\n",
       "      <td>NaN</td>\n",
       "      <td>NaN</td>\n",
       "      <td>False</td>\n",
       "      <td>False</td>\n",
       "      <td>False</td>\n",
       "      <td>False</td>\n",
       "      <td>Black - Non-Latino</td>\n",
       "      <td>False</td>\n",
       "      <td>False</td>\n",
       "    </tr>\n",
       "  </tbody>\n",
       "</table>\n",
       "<p>5 rows × 22 columns</p>\n",
       "</div>"
      ],
      "text/plain": [
       "  raw_row_number        date     time                location        lat  \\\n",
       "0         411981  2014-01-01  1:14:00                     NaN        NaN   \n",
       "1         407442  2014-01-01  1:57:00                     NaN        NaN   \n",
       "2         217556  2014-01-01  3:30:00    3400 BLOCK SPRUCE ST  39.950424   \n",
       "3         217557  2014-01-01  3:40:00    3400 BLOCK SPRUCE ST  39.950424   \n",
       "4         230988  2014-01-01  8:30:00  N 56TH ST / UPLAND WAY  39.983712   \n",
       "\n",
       "         lng  district service_area  subject_age subject_race  ...  \\\n",
       "0        NaN      19.0          191         31.0        black  ...   \n",
       "1        NaN      12.0          121         21.0        black  ...   \n",
       "2 -75.192680      18.0          183         24.0        black  ...   \n",
       "3 -75.192680      18.0          183         20.0        black  ...   \n",
       "4 -75.234188      19.0          193         31.0        black  ...   \n",
       "\n",
       "  arrest_made outcome  contraband_found frisk_performed search_conducted  \\\n",
       "0        True  arrest              True           False             True   \n",
       "1        True  arrest             False            True             True   \n",
       "2       False     NaN               NaN           False            False   \n",
       "3       False     NaN               NaN           False            False   \n",
       "4       False     NaN               NaN           False            False   \n",
       "\n",
       "   search_person  search_vehicle            raw_race  \\\n",
       "0           True           False  Black - Non-Latino   \n",
       "1           True           False  Black - Non-Latino   \n",
       "2          False           False  Black - Non-Latino   \n",
       "3          False           False  Black - Non-Latino   \n",
       "4          False           False  Black - Non-Latino   \n",
       "\n",
       "   raw_individual_contraband raw_vehicle_contraband  \n",
       "0                       True                  False  \n",
       "1                      False                  False  \n",
       "2                      False                  False  \n",
       "3                      False                  False  \n",
       "4                      False                  False  \n",
       "\n",
       "[5 rows x 22 columns]"
      ]
     },
     "execution_count": 2,
     "metadata": {},
     "output_type": "execute_result"
    }
   ],
   "source": [
    "data = pd.read_csv('/users/johnstonkirimo/Projects/weekly_analysis/stanford_open_policy/data/pa_philadelphia_2020_04_01.csv', low_memory = False)\n",
    "data.head()"
   ]
  },
  {
   "cell_type": "code",
   "execution_count": 3,
   "metadata": {},
   "outputs": [
    {
     "data": {
      "text/plain": [
       "(1048575, 22)"
      ]
     },
     "execution_count": 3,
     "metadata": {},
     "output_type": "execute_result"
    }
   ],
   "source": [
    "#How many rows and columns in dataset?\n",
    "\n",
    "data.shape"
   ]
  },
  {
   "cell_type": "code",
   "execution_count": 4,
   "metadata": {},
   "outputs": [
    {
     "data": {
      "text/html": [
       "<div>\n",
       "<style scoped>\n",
       "    .dataframe tbody tr th:only-of-type {\n",
       "        vertical-align: middle;\n",
       "    }\n",
       "\n",
       "    .dataframe tbody tr th {\n",
       "        vertical-align: top;\n",
       "    }\n",
       "\n",
       "    .dataframe thead th {\n",
       "        text-align: right;\n",
       "    }\n",
       "</style>\n",
       "<table border=\"1\" class=\"dataframe\">\n",
       "  <thead>\n",
       "    <tr style=\"text-align: right;\">\n",
       "      <th></th>\n",
       "      <th>lat</th>\n",
       "      <th>lng</th>\n",
       "      <th>district</th>\n",
       "      <th>subject_age</th>\n",
       "    </tr>\n",
       "  </thead>\n",
       "  <tbody>\n",
       "    <tr>\n",
       "      <td>count</td>\n",
       "      <td>961403.000000</td>\n",
       "      <td>961403.000000</td>\n",
       "      <td>1.048574e+06</td>\n",
       "      <td>1.045523e+06</td>\n",
       "    </tr>\n",
       "    <tr>\n",
       "      <td>mean</td>\n",
       "      <td>39.989229</td>\n",
       "      <td>-75.158797</td>\n",
       "      <td>1.847352e+01</td>\n",
       "      <td>3.473804e+01</td>\n",
       "    </tr>\n",
       "    <tr>\n",
       "      <td>std</td>\n",
       "      <td>0.043822</td>\n",
       "      <td>0.054935</td>\n",
       "      <td>1.053904e+01</td>\n",
       "      <td>1.339737e+01</td>\n",
       "    </tr>\n",
       "    <tr>\n",
       "      <td>min</td>\n",
       "      <td>39.875032</td>\n",
       "      <td>-75.275694</td>\n",
       "      <td>1.000000e+00</td>\n",
       "      <td>1.000000e+01</td>\n",
       "    </tr>\n",
       "    <tr>\n",
       "      <td>25%</td>\n",
       "      <td>39.956289</td>\n",
       "      <td>-75.194087</td>\n",
       "      <td>1.200000e+01</td>\n",
       "      <td>2.400000e+01</td>\n",
       "    </tr>\n",
       "    <tr>\n",
       "      <td>50%</td>\n",
       "      <td>39.990849</td>\n",
       "      <td>-75.159716</td>\n",
       "      <td>1.800000e+01</td>\n",
       "      <td>3.100000e+01</td>\n",
       "    </tr>\n",
       "    <tr>\n",
       "      <td>75%</td>\n",
       "      <td>40.023218</td>\n",
       "      <td>-75.129288</td>\n",
       "      <td>2.400000e+01</td>\n",
       "      <td>4.400000e+01</td>\n",
       "    </tr>\n",
       "    <tr>\n",
       "      <td>max</td>\n",
       "      <td>40.137445</td>\n",
       "      <td>-74.957707</td>\n",
       "      <td>7.700000e+01</td>\n",
       "      <td>1.100000e+02</td>\n",
       "    </tr>\n",
       "  </tbody>\n",
       "</table>\n",
       "</div>"
      ],
      "text/plain": [
       "                 lat            lng      district   subject_age\n",
       "count  961403.000000  961403.000000  1.048574e+06  1.045523e+06\n",
       "mean       39.989229     -75.158797  1.847352e+01  3.473804e+01\n",
       "std         0.043822       0.054935  1.053904e+01  1.339737e+01\n",
       "min        39.875032     -75.275694  1.000000e+00  1.000000e+01\n",
       "25%        39.956289     -75.194087  1.200000e+01  2.400000e+01\n",
       "50%        39.990849     -75.159716  1.800000e+01  3.100000e+01\n",
       "75%        40.023218     -75.129288  2.400000e+01  4.400000e+01\n",
       "max        40.137445     -74.957707  7.700000e+01  1.100000e+02"
      ]
     },
     "execution_count": 4,
     "metadata": {},
     "output_type": "execute_result"
    }
   ],
   "source": [
    "#Check summary statistis --  perhaps not very helpful, except for subject_age\n",
    "\n",
    "data.describe()"
   ]
  },
  {
   "cell_type": "code",
   "execution_count": 6,
   "metadata": {},
   "outputs": [
    {
     "data": {
      "text/plain": [
       "raw_row_number                object\n",
       "date                          object\n",
       "time                          object\n",
       "location                      object\n",
       "lat                          float64\n",
       "lng                          float64\n",
       "district                     float64\n",
       "service_area                  object\n",
       "subject_age                  float64\n",
       "subject_race                  object\n",
       "subject_sex                   object\n",
       "type                          object\n",
       "arrest_made                     bool\n",
       "outcome                       object\n",
       "contraband_found              object\n",
       "frisk_performed                 bool\n",
       "search_conducted                bool\n",
       "search_person                   bool\n",
       "search_vehicle                  bool\n",
       "raw_race                      object\n",
       "raw_individual_contraband       bool\n",
       "raw_vehicle_contraband          bool\n",
       "dtype: object"
      ]
     },
     "execution_count": 6,
     "metadata": {},
     "output_type": "execute_result"
    }
   ],
   "source": [
    "#check columns and data types\n",
    "\n",
    "data.dtypes"
   ]
  },
  {
   "cell_type": "code",
   "execution_count": 7,
   "metadata": {},
   "outputs": [
    {
     "name": "stdout",
     "output_type": "stream",
     "text": [
      "2016-04-01\n",
      "2014-01-01\n"
     ]
    }
   ],
   "source": [
    "# Get max and min dates\n",
    "\n",
    "max_date = data.date.max()\n",
    "min_date = data.date.min()\n",
    "\n",
    "print(max_date)\n",
    "print(min_date)"
   ]
  },
  {
   "cell_type": "code",
   "execution_count": 10,
   "metadata": {},
   "outputs": [
    {
     "data": {
      "text/plain": [
       "(0, 22)"
      ]
     },
     "execution_count": 10,
     "metadata": {},
     "output_type": "execute_result"
    }
   ],
   "source": [
    "#check for duplicated rows - keep last\n",
    "\n",
    "dupes = data[data.duplicated(keep = 'last')]\n",
    "dupes.shape"
   ]
  },
  {
   "cell_type": "markdown",
   "metadata": {},
   "source": [
    "### Proportion of stops by race"
   ]
  },
  {
   "cell_type": "code",
   "execution_count": 14,
   "metadata": {},
   "outputs": [
    {
     "data": {
      "text/plain": [
       "black                     688504\n",
       "white                     224815\n",
       "hispanic                  102708\n",
       "asian/pacific islander     22748\n",
       "unknown                     6585\n",
       "other                       3215\n",
       "Name: subject_race, dtype: int64"
      ]
     },
     "execution_count": 14,
     "metadata": {},
     "output_type": "execute_result"
    }
   ],
   "source": [
    "#Get the proportion of stops by race\n",
    "\n",
    "data.subject_race.value_counts(dropna=False)"
   ]
  },
  {
   "cell_type": "code",
   "execution_count": 15,
   "metadata": {},
   "outputs": [
    {
     "data": {
      "text/plain": [
       "black                     0.656609\n",
       "white                     0.214400\n",
       "hispanic                  0.097950\n",
       "asian/pacific islander    0.021694\n",
       "unknown                   0.006280\n",
       "other                     0.003066\n",
       "Name: subject_race, dtype: float64"
      ]
     },
     "execution_count": 15,
     "metadata": {},
     "output_type": "execute_result"
    }
   ],
   "source": [
    "#Distriution of stops by race\n",
    "\n",
    "data['subject_race'].value_counts(normalize=True, dropna=False)"
   ]
  },
  {
   "cell_type": "code",
   "execution_count": 16,
   "metadata": {},
   "outputs": [
    {
     "data": {
      "text/html": [
       "<div>\n",
       "<style scoped>\n",
       "    .dataframe tbody tr th:only-of-type {\n",
       "        vertical-align: middle;\n",
       "    }\n",
       "\n",
       "    .dataframe tbody tr th {\n",
       "        vertical-align: top;\n",
       "    }\n",
       "\n",
       "    .dataframe thead th {\n",
       "        text-align: right;\n",
       "    }\n",
       "</style>\n",
       "<table border=\"1\" class=\"dataframe\">\n",
       "  <thead>\n",
       "    <tr style=\"text-align: right;\">\n",
       "      <th></th>\n",
       "      <th>raw_row_number</th>\n",
       "      <th>date</th>\n",
       "      <th>time</th>\n",
       "      <th>location</th>\n",
       "      <th>lat</th>\n",
       "      <th>lng</th>\n",
       "      <th>district</th>\n",
       "      <th>service_area</th>\n",
       "      <th>subject_age</th>\n",
       "      <th>subject_race</th>\n",
       "      <th>...</th>\n",
       "      <th>arrest_made</th>\n",
       "      <th>outcome</th>\n",
       "      <th>contraband_found</th>\n",
       "      <th>frisk_performed</th>\n",
       "      <th>search_conducted</th>\n",
       "      <th>search_person</th>\n",
       "      <th>search_vehicle</th>\n",
       "      <th>raw_race</th>\n",
       "      <th>raw_individual_contraband</th>\n",
       "      <th>raw_vehicle_contraband</th>\n",
       "    </tr>\n",
       "  </thead>\n",
       "  <tbody>\n",
       "    <tr>\n",
       "      <td>678400</td>\n",
       "      <td>770707</td>\n",
       "      <td>2015-07-03</td>\n",
       "      <td>22:20:00</td>\n",
       "      <td>6000 BLOCK WASHINGTON AV</td>\n",
       "      <td>NaN</td>\n",
       "      <td>NaN</td>\n",
       "      <td>18.0</td>\n",
       "      <td>181</td>\n",
       "      <td>32.0</td>\n",
       "      <td>unknown</td>\n",
       "      <td>...</td>\n",
       "      <td>False</td>\n",
       "      <td>NaN</td>\n",
       "      <td>NaN</td>\n",
       "      <td>False</td>\n",
       "      <td>False</td>\n",
       "      <td>False</td>\n",
       "      <td>False</td>\n",
       "      <td>Unknown</td>\n",
       "      <td>False</td>\n",
       "      <td>False</td>\n",
       "    </tr>\n",
       "    <tr>\n",
       "      <td>231636</td>\n",
       "      <td>223815</td>\n",
       "      <td>2014-08-11</td>\n",
       "      <td>7:50:00</td>\n",
       "      <td>BELMONT AV / LANCASTER AV</td>\n",
       "      <td>39.968724</td>\n",
       "      <td>-75.211322</td>\n",
       "      <td>16.0</td>\n",
       "      <td>162</td>\n",
       "      <td>33.0</td>\n",
       "      <td>unknown</td>\n",
       "      <td>...</td>\n",
       "      <td>False</td>\n",
       "      <td>NaN</td>\n",
       "      <td>NaN</td>\n",
       "      <td>False</td>\n",
       "      <td>False</td>\n",
       "      <td>False</td>\n",
       "      <td>False</td>\n",
       "      <td>Unknown</td>\n",
       "      <td>False</td>\n",
       "      <td>False</td>\n",
       "    </tr>\n",
       "    <tr>\n",
       "      <td>246193</td>\n",
       "      <td>229274</td>\n",
       "      <td>2014-08-23</td>\n",
       "      <td>0:10:00</td>\n",
       "      <td>FRANKFORD AV / PRATT ST</td>\n",
       "      <td>40.022360</td>\n",
       "      <td>-75.078150</td>\n",
       "      <td>15.0</td>\n",
       "      <td>151</td>\n",
       "      <td>59.0</td>\n",
       "      <td>unknown</td>\n",
       "      <td>...</td>\n",
       "      <td>False</td>\n",
       "      <td>NaN</td>\n",
       "      <td>NaN</td>\n",
       "      <td>False</td>\n",
       "      <td>False</td>\n",
       "      <td>False</td>\n",
       "      <td>False</td>\n",
       "      <td>Unknown</td>\n",
       "      <td>False</td>\n",
       "      <td>False</td>\n",
       "    </tr>\n",
       "    <tr>\n",
       "      <td>485499</td>\n",
       "      <td>572692</td>\n",
       "      <td>2015-02-20</td>\n",
       "      <td>0:02:00</td>\n",
       "      <td>S 46TH ST / SPRINGFIELD AV</td>\n",
       "      <td>39.947902</td>\n",
       "      <td>-75.213883</td>\n",
       "      <td>18.0</td>\n",
       "      <td>183</td>\n",
       "      <td>23.0</td>\n",
       "      <td>unknown</td>\n",
       "      <td>...</td>\n",
       "      <td>False</td>\n",
       "      <td>NaN</td>\n",
       "      <td>NaN</td>\n",
       "      <td>False</td>\n",
       "      <td>False</td>\n",
       "      <td>False</td>\n",
       "      <td>False</td>\n",
       "      <td>Unknown</td>\n",
       "      <td>False</td>\n",
       "      <td>False</td>\n",
       "    </tr>\n",
       "    <tr>\n",
       "      <td>118934</td>\n",
       "      <td>415189</td>\n",
       "      <td>2014-05-11</td>\n",
       "      <td>16:40:00</td>\n",
       "      <td>NaN</td>\n",
       "      <td>NaN</td>\n",
       "      <td>NaN</td>\n",
       "      <td>19.0</td>\n",
       "      <td>193</td>\n",
       "      <td>26.0</td>\n",
       "      <td>unknown</td>\n",
       "      <td>...</td>\n",
       "      <td>False</td>\n",
       "      <td>NaN</td>\n",
       "      <td>NaN</td>\n",
       "      <td>False</td>\n",
       "      <td>False</td>\n",
       "      <td>False</td>\n",
       "      <td>False</td>\n",
       "      <td>Unknown</td>\n",
       "      <td>False</td>\n",
       "      <td>False</td>\n",
       "    </tr>\n",
       "  </tbody>\n",
       "</table>\n",
       "<p>5 rows × 22 columns</p>\n",
       "</div>"
      ],
      "text/plain": [
       "       raw_row_number        date      time                    location  \\\n",
       "678400         770707  2015-07-03  22:20:00    6000 BLOCK WASHINGTON AV   \n",
       "231636         223815  2014-08-11   7:50:00   BELMONT AV / LANCASTER AV   \n",
       "246193         229274  2014-08-23   0:10:00     FRANKFORD AV / PRATT ST   \n",
       "485499         572692  2015-02-20   0:02:00  S 46TH ST / SPRINGFIELD AV   \n",
       "118934         415189  2014-05-11  16:40:00                         NaN   \n",
       "\n",
       "              lat        lng  district service_area  subject_age subject_race  \\\n",
       "678400        NaN        NaN      18.0          181         32.0      unknown   \n",
       "231636  39.968724 -75.211322      16.0          162         33.0      unknown   \n",
       "246193  40.022360 -75.078150      15.0          151         59.0      unknown   \n",
       "485499  39.947902 -75.213883      18.0          183         23.0      unknown   \n",
       "118934        NaN        NaN      19.0          193         26.0      unknown   \n",
       "\n",
       "        ... arrest_made outcome  contraband_found frisk_performed  \\\n",
       "678400  ...       False     NaN               NaN           False   \n",
       "231636  ...       False     NaN               NaN           False   \n",
       "246193  ...       False     NaN               NaN           False   \n",
       "485499  ...       False     NaN               NaN           False   \n",
       "118934  ...       False     NaN               NaN           False   \n",
       "\n",
       "       search_conducted  search_person  search_vehicle  raw_race  \\\n",
       "678400            False          False           False   Unknown   \n",
       "231636            False          False           False   Unknown   \n",
       "246193            False          False           False   Unknown   \n",
       "485499            False          False           False   Unknown   \n",
       "118934            False          False           False   Unknown   \n",
       "\n",
       "        raw_individual_contraband raw_vehicle_contraband  \n",
       "678400                      False                  False  \n",
       "231636                      False                  False  \n",
       "246193                      False                  False  \n",
       "485499                      False                  False  \n",
       "118934                      False                  False  \n",
       "\n",
       "[5 rows x 22 columns]"
      ]
     },
     "execution_count": 16,
     "metadata": {},
     "output_type": "execute_result"
    }
   ],
   "source": [
    "#check stops where subject_race is 'unknown'\n",
    "\n",
    "data[data.subject_race == 'unknown'].sample(5)"
   ]
  },
  {
   "cell_type": "code",
   "execution_count": 17,
   "metadata": {},
   "outputs": [
    {
     "data": {
      "text/html": [
       "<div>\n",
       "<style scoped>\n",
       "    .dataframe tbody tr th:only-of-type {\n",
       "        vertical-align: middle;\n",
       "    }\n",
       "\n",
       "    .dataframe tbody tr th {\n",
       "        vertical-align: top;\n",
       "    }\n",
       "\n",
       "    .dataframe thead th {\n",
       "        text-align: right;\n",
       "    }\n",
       "</style>\n",
       "<table border=\"1\" class=\"dataframe\">\n",
       "  <thead>\n",
       "    <tr style=\"text-align: right;\">\n",
       "      <th></th>\n",
       "      <th>raw_row_number</th>\n",
       "      <th>date</th>\n",
       "      <th>time</th>\n",
       "      <th>location</th>\n",
       "      <th>lat</th>\n",
       "      <th>lng</th>\n",
       "      <th>district</th>\n",
       "      <th>service_area</th>\n",
       "      <th>subject_age</th>\n",
       "      <th>subject_race</th>\n",
       "      <th>...</th>\n",
       "      <th>contraband_found</th>\n",
       "      <th>frisk_performed</th>\n",
       "      <th>search_conducted</th>\n",
       "      <th>search_person</th>\n",
       "      <th>search_vehicle</th>\n",
       "      <th>raw_race</th>\n",
       "      <th>raw_individual_contraband</th>\n",
       "      <th>raw_vehicle_contraband</th>\n",
       "      <th>year</th>\n",
       "      <th>month</th>\n",
       "    </tr>\n",
       "  </thead>\n",
       "  <tbody>\n",
       "    <tr>\n",
       "      <td>0</td>\n",
       "      <td>411981</td>\n",
       "      <td>2014-01-01</td>\n",
       "      <td>1:14:00</td>\n",
       "      <td>NaN</td>\n",
       "      <td>NaN</td>\n",
       "      <td>NaN</td>\n",
       "      <td>19.0</td>\n",
       "      <td>191</td>\n",
       "      <td>31.0</td>\n",
       "      <td>black</td>\n",
       "      <td>...</td>\n",
       "      <td>True</td>\n",
       "      <td>False</td>\n",
       "      <td>True</td>\n",
       "      <td>True</td>\n",
       "      <td>False</td>\n",
       "      <td>Black - Non-Latino</td>\n",
       "      <td>True</td>\n",
       "      <td>False</td>\n",
       "      <td>2014</td>\n",
       "      <td>01</td>\n",
       "    </tr>\n",
       "    <tr>\n",
       "      <td>1</td>\n",
       "      <td>407442</td>\n",
       "      <td>2014-01-01</td>\n",
       "      <td>1:57:00</td>\n",
       "      <td>NaN</td>\n",
       "      <td>NaN</td>\n",
       "      <td>NaN</td>\n",
       "      <td>12.0</td>\n",
       "      <td>121</td>\n",
       "      <td>21.0</td>\n",
       "      <td>black</td>\n",
       "      <td>...</td>\n",
       "      <td>False</td>\n",
       "      <td>True</td>\n",
       "      <td>True</td>\n",
       "      <td>True</td>\n",
       "      <td>False</td>\n",
       "      <td>Black - Non-Latino</td>\n",
       "      <td>False</td>\n",
       "      <td>False</td>\n",
       "      <td>2014</td>\n",
       "      <td>01</td>\n",
       "    </tr>\n",
       "    <tr>\n",
       "      <td>2</td>\n",
       "      <td>217556</td>\n",
       "      <td>2014-01-01</td>\n",
       "      <td>3:30:00</td>\n",
       "      <td>3400 BLOCK SPRUCE ST</td>\n",
       "      <td>39.950424</td>\n",
       "      <td>-75.19268</td>\n",
       "      <td>18.0</td>\n",
       "      <td>183</td>\n",
       "      <td>24.0</td>\n",
       "      <td>black</td>\n",
       "      <td>...</td>\n",
       "      <td>NaN</td>\n",
       "      <td>False</td>\n",
       "      <td>False</td>\n",
       "      <td>False</td>\n",
       "      <td>False</td>\n",
       "      <td>Black - Non-Latino</td>\n",
       "      <td>False</td>\n",
       "      <td>False</td>\n",
       "      <td>2014</td>\n",
       "      <td>01</td>\n",
       "    </tr>\n",
       "  </tbody>\n",
       "</table>\n",
       "<p>3 rows × 24 columns</p>\n",
       "</div>"
      ],
      "text/plain": [
       "  raw_row_number        date     time              location        lat  \\\n",
       "0         411981  2014-01-01  1:14:00                   NaN        NaN   \n",
       "1         407442  2014-01-01  1:57:00                   NaN        NaN   \n",
       "2         217556  2014-01-01  3:30:00  3400 BLOCK SPRUCE ST  39.950424   \n",
       "\n",
       "        lng  district service_area  subject_age subject_race  ...  \\\n",
       "0       NaN      19.0          191         31.0        black  ...   \n",
       "1       NaN      12.0          121         21.0        black  ...   \n",
       "2 -75.19268      18.0          183         24.0        black  ...   \n",
       "\n",
       "  contraband_found frisk_performed  search_conducted search_person  \\\n",
       "0             True           False              True          True   \n",
       "1            False            True              True          True   \n",
       "2              NaN           False             False         False   \n",
       "\n",
       "  search_vehicle            raw_race  raw_individual_contraband  \\\n",
       "0          False  Black - Non-Latino                       True   \n",
       "1          False  Black - Non-Latino                      False   \n",
       "2          False  Black - Non-Latino                      False   \n",
       "\n",
       "   raw_vehicle_contraband  year month  \n",
       "0                   False  2014    01  \n",
       "1                   False  2014    01  \n",
       "2                   False  2014    01  \n",
       "\n",
       "[3 rows x 24 columns]"
      ]
     },
     "execution_count": 17,
     "metadata": {},
     "output_type": "execute_result"
    }
   ],
   "source": [
    "# add year and month columns\n",
    "\n",
    "data['year'] = data['date'].str[:4]\n",
    "data['month'] = data['date'].str[5:7]\n",
    "data.head(3)"
   ]
  },
  {
   "cell_type": "markdown",
   "metadata": {},
   "source": [
    "### Does the propotion of stops differ from year to year"
   ]
  },
  {
   "cell_type": "code",
   "execution_count": 18,
   "metadata": {},
   "outputs": [
    {
     "data": {
      "text/html": [
       "<div>\n",
       "<style scoped>\n",
       "    .dataframe tbody tr th:only-of-type {\n",
       "        vertical-align: middle;\n",
       "    }\n",
       "\n",
       "    .dataframe tbody tr th {\n",
       "        vertical-align: top;\n",
       "    }\n",
       "\n",
       "    .dataframe thead th {\n",
       "        text-align: right;\n",
       "    }\n",
       "</style>\n",
       "<table border=\"1\" class=\"dataframe\">\n",
       "  <thead>\n",
       "    <tr style=\"text-align: right;\">\n",
       "      <th></th>\n",
       "      <th>year</th>\n",
       "      <th>subject_race</th>\n",
       "      <th>count</th>\n",
       "    </tr>\n",
       "  </thead>\n",
       "  <tbody>\n",
       "    <tr>\n",
       "      <td>0</td>\n",
       "      <td>2014</td>\n",
       "      <td>asian/pacific islander</td>\n",
       "      <td>9292</td>\n",
       "    </tr>\n",
       "    <tr>\n",
       "      <td>1</td>\n",
       "      <td>2014</td>\n",
       "      <td>black</td>\n",
       "      <td>271687</td>\n",
       "    </tr>\n",
       "    <tr>\n",
       "      <td>2</td>\n",
       "      <td>2014</td>\n",
       "      <td>hispanic</td>\n",
       "      <td>41160</td>\n",
       "    </tr>\n",
       "    <tr>\n",
       "      <td>3</td>\n",
       "      <td>2014</td>\n",
       "      <td>other</td>\n",
       "      <td>1410</td>\n",
       "    </tr>\n",
       "    <tr>\n",
       "      <td>4</td>\n",
       "      <td>2014</td>\n",
       "      <td>unknown</td>\n",
       "      <td>2029</td>\n",
       "    </tr>\n",
       "    <tr>\n",
       "      <td>5</td>\n",
       "      <td>2014</td>\n",
       "      <td>white</td>\n",
       "      <td>92453</td>\n",
       "    </tr>\n",
       "    <tr>\n",
       "      <td>6</td>\n",
       "      <td>2015</td>\n",
       "      <td>asian/pacific islander</td>\n",
       "      <td>10976</td>\n",
       "    </tr>\n",
       "    <tr>\n",
       "      <td>7</td>\n",
       "      <td>2015</td>\n",
       "      <td>black</td>\n",
       "      <td>337801</td>\n",
       "    </tr>\n",
       "    <tr>\n",
       "      <td>8</td>\n",
       "      <td>2015</td>\n",
       "      <td>hispanic</td>\n",
       "      <td>49258</td>\n",
       "    </tr>\n",
       "    <tr>\n",
       "      <td>9</td>\n",
       "      <td>2015</td>\n",
       "      <td>other</td>\n",
       "      <td>1449</td>\n",
       "    </tr>\n",
       "    <tr>\n",
       "      <td>10</td>\n",
       "      <td>2015</td>\n",
       "      <td>unknown</td>\n",
       "      <td>3551</td>\n",
       "    </tr>\n",
       "    <tr>\n",
       "      <td>11</td>\n",
       "      <td>2015</td>\n",
       "      <td>white</td>\n",
       "      <td>107499</td>\n",
       "    </tr>\n",
       "    <tr>\n",
       "      <td>12</td>\n",
       "      <td>2016</td>\n",
       "      <td>asian/pacific islander</td>\n",
       "      <td>2480</td>\n",
       "    </tr>\n",
       "    <tr>\n",
       "      <td>13</td>\n",
       "      <td>2016</td>\n",
       "      <td>black</td>\n",
       "      <td>79016</td>\n",
       "    </tr>\n",
       "    <tr>\n",
       "      <td>14</td>\n",
       "      <td>2016</td>\n",
       "      <td>hispanic</td>\n",
       "      <td>12290</td>\n",
       "    </tr>\n",
       "    <tr>\n",
       "      <td>15</td>\n",
       "      <td>2016</td>\n",
       "      <td>other</td>\n",
       "      <td>356</td>\n",
       "    </tr>\n",
       "    <tr>\n",
       "      <td>16</td>\n",
       "      <td>2016</td>\n",
       "      <td>unknown</td>\n",
       "      <td>1005</td>\n",
       "    </tr>\n",
       "    <tr>\n",
       "      <td>17</td>\n",
       "      <td>2016</td>\n",
       "      <td>white</td>\n",
       "      <td>24863</td>\n",
       "    </tr>\n",
       "  </tbody>\n",
       "</table>\n",
       "</div>"
      ],
      "text/plain": [
       "    year            subject_race   count\n",
       "0   2014  asian/pacific islander    9292\n",
       "1   2014                   black  271687\n",
       "2   2014                hispanic   41160\n",
       "3   2014                   other    1410\n",
       "4   2014                 unknown    2029\n",
       "5   2014                   white   92453\n",
       "6   2015  asian/pacific islander   10976\n",
       "7   2015                   black  337801\n",
       "8   2015                hispanic   49258\n",
       "9   2015                   other    1449\n",
       "10  2015                 unknown    3551\n",
       "11  2015                   white  107499\n",
       "12  2016  asian/pacific islander    2480\n",
       "13  2016                   black   79016\n",
       "14  2016                hispanic   12290\n",
       "15  2016                   other     356\n",
       "16  2016                 unknown    1005\n",
       "17  2016                   white   24863"
      ]
     },
     "execution_count": 18,
     "metadata": {},
     "output_type": "execute_result"
    }
   ],
   "source": [
    "#stops by year and raw_race?\n",
    "\n",
    "year_and_race = data.groupby(['year', 'subject_race']).year.count().reset_index(name='count')\n",
    "year_and_race"
   ]
  },
  {
   "cell_type": "code",
   "execution_count": 21,
   "metadata": {},
   "outputs": [
    {
     "data": {
      "text/html": [
       "<div>\n",
       "<style scoped>\n",
       "    .dataframe tbody tr th:only-of-type {\n",
       "        vertical-align: middle;\n",
       "    }\n",
       "\n",
       "    .dataframe tbody tr th {\n",
       "        vertical-align: top;\n",
       "    }\n",
       "\n",
       "    .dataframe thead tr th {\n",
       "        text-align: left;\n",
       "    }\n",
       "\n",
       "    .dataframe thead tr:last-of-type th {\n",
       "        text-align: right;\n",
       "    }\n",
       "</style>\n",
       "<table border=\"1\" class=\"dataframe\">\n",
       "  <thead>\n",
       "    <tr>\n",
       "      <th></th>\n",
       "      <th colspan=\"3\" halign=\"left\">count</th>\n",
       "    </tr>\n",
       "    <tr>\n",
       "      <th>year</th>\n",
       "      <th>2014</th>\n",
       "      <th>2015</th>\n",
       "      <th>2016</th>\n",
       "    </tr>\n",
       "    <tr>\n",
       "      <th>subject_race</th>\n",
       "      <th></th>\n",
       "      <th></th>\n",
       "      <th></th>\n",
       "    </tr>\n",
       "  </thead>\n",
       "  <tbody>\n",
       "    <tr>\n",
       "      <td>asian/pacific islander</td>\n",
       "      <td>9292</td>\n",
       "      <td>10976</td>\n",
       "      <td>2480</td>\n",
       "    </tr>\n",
       "    <tr>\n",
       "      <td>black</td>\n",
       "      <td>271687</td>\n",
       "      <td>337801</td>\n",
       "      <td>79016</td>\n",
       "    </tr>\n",
       "    <tr>\n",
       "      <td>hispanic</td>\n",
       "      <td>41160</td>\n",
       "      <td>49258</td>\n",
       "      <td>12290</td>\n",
       "    </tr>\n",
       "    <tr>\n",
       "      <td>other</td>\n",
       "      <td>1410</td>\n",
       "      <td>1449</td>\n",
       "      <td>356</td>\n",
       "    </tr>\n",
       "    <tr>\n",
       "      <td>unknown</td>\n",
       "      <td>2029</td>\n",
       "      <td>3551</td>\n",
       "      <td>1005</td>\n",
       "    </tr>\n",
       "    <tr>\n",
       "      <td>white</td>\n",
       "      <td>92453</td>\n",
       "      <td>107499</td>\n",
       "      <td>24863</td>\n",
       "    </tr>\n",
       "  </tbody>\n",
       "</table>\n",
       "</div>"
      ],
      "text/plain": [
       "                         count               \n",
       "year                      2014    2015   2016\n",
       "subject_race                                 \n",
       "asian/pacific islander    9292   10976   2480\n",
       "black                   271687  337801  79016\n",
       "hispanic                 41160   49258  12290\n",
       "other                     1410    1449    356\n",
       "unknown                   2029    3551   1005\n",
       "white                    92453  107499  24863"
      ]
     },
     "execution_count": 21,
     "metadata": {},
     "output_type": "execute_result"
    }
   ],
   "source": [
    "#Reshaping the year_and_race df\n",
    "\n",
    "grouped_df = pd.pivot_table(year_and_race, columns=['year'], values=['count'], index='subject_race')\n",
    "grouped_df"
   ]
  },
  {
   "cell_type": "code",
   "execution_count": 27,
   "metadata": {},
   "outputs": [
    {
     "data": {
      "text/plain": [
       "year  subject_race          \n",
       "2014  black                     0.649921\n",
       "      white                     0.221163\n",
       "      hispanic                  0.098462\n",
       "      asian/pacific islander    0.022228\n",
       "      unknown                   0.004854\n",
       "      other                     0.003373\n",
       "2015  black                     0.661662\n",
       "      white                     0.210562\n",
       "      hispanic                  0.096483\n",
       "      asian/pacific islander    0.021499\n",
       "      unknown                   0.006955\n",
       "      other                     0.002838\n",
       "2016  black                     0.658412\n",
       "      white                     0.207174\n",
       "      hispanic                  0.102408\n",
       "      asian/pacific islander    0.020665\n",
       "      unknown                   0.008374\n",
       "      other                     0.002966\n",
       "Name: subject_race, dtype: float64"
      ]
     },
     "execution_count": 27,
     "metadata": {},
     "output_type": "execute_result"
    }
   ],
   "source": [
    "#Get racial distribution of stops by year\n",
    "\n",
    "data.groupby(['year']).subject_race.value_counts(normalize=True)"
   ]
  },
  {
   "cell_type": "markdown",
   "metadata": {},
   "source": [
    "### Visualize the stops by each race"
   ]
  },
  {
   "cell_type": "code",
   "execution_count": 29,
   "metadata": {},
   "outputs": [
    {
     "data": {
      "text/plain": [
       "<matplotlib.axes._subplots.AxesSubplot at 0x7fd48c587ed0>"
      ]
     },
     "execution_count": 29,
     "metadata": {},
     "output_type": "execute_result"
    },
    {
     "data": {
      "image/png": "[encoded data removed]",
      "text/plain": [
       "<Figure size 432x288 with 1 Axes>"
      ]
     },
     "metadata": {
      "needs_background": "light"
     },
     "output_type": "display_data"
    }
   ],
   "source": [
    "#plotting stops by race\n",
    "\n",
    "data['subject_race'].value_counts().plot(kind = 'bar')"
   ]
  },
  {
   "cell_type": "markdown",
   "metadata": {},
   "source": [
    "### Does a Persons Race affect whether they are stopped at a police traffic checkpoint?"
   ]
  },
  {
   "cell_type": "code",
   "execution_count": 30,
   "metadata": {},
   "outputs": [
    {
     "name": "stdout",
     "output_type": "stream",
     "text": [
      "asian/pacific islander 110864\n",
      "black 648846\n",
      "hispanic 221777\n",
      "other/unknown 39858\n",
      "white 548312\n"
     ]
    }
   ],
   "source": [
    "#Map each subject_race by its total population size\n",
    "\n",
    "population_by_race = {'asian/pacific islander':110864,\n",
    "                'black':648846 ,'hispanic':221777,\n",
    "                'other/unknown':39858, \n",
    "                'white':548312\n",
    "              }\n",
    "\n",
    "for key, value in population_by_race.items():\n",
    "    print(key,value)"
   ]
  },
  {
   "cell_type": "code",
   "execution_count": 31,
   "metadata": {},
   "outputs": [
    {
     "data": {
      "text/html": [
       "<div>\n",
       "<style scoped>\n",
       "    .dataframe tbody tr th:only-of-type {\n",
       "        vertical-align: middle;\n",
       "    }\n",
       "\n",
       "    .dataframe tbody tr th {\n",
       "        vertical-align: top;\n",
       "    }\n",
       "\n",
       "    .dataframe thead th {\n",
       "        text-align: right;\n",
       "    }\n",
       "</style>\n",
       "<table border=\"1\" class=\"dataframe\">\n",
       "  <thead>\n",
       "    <tr style=\"text-align: right;\">\n",
       "      <th></th>\n",
       "      <th>population_size</th>\n",
       "    </tr>\n",
       "    <tr>\n",
       "      <th>subject_race</th>\n",
       "      <th></th>\n",
       "    </tr>\n",
       "  </thead>\n",
       "  <tbody>\n",
       "    <tr>\n",
       "      <td>asian/pacific islander</td>\n",
       "      <td>110864</td>\n",
       "    </tr>\n",
       "    <tr>\n",
       "      <td>black</td>\n",
       "      <td>648846</td>\n",
       "    </tr>\n",
       "    <tr>\n",
       "      <td>hispanic</td>\n",
       "      <td>221777</td>\n",
       "    </tr>\n",
       "    <tr>\n",
       "      <td>other/unknown</td>\n",
       "      <td>39858</td>\n",
       "    </tr>\n",
       "    <tr>\n",
       "      <td>white</td>\n",
       "      <td>548312</td>\n",
       "    </tr>\n",
       "  </tbody>\n",
       "</table>\n",
       "</div>"
      ],
      "text/plain": [
       "                        population_size\n",
       "subject_race                           \n",
       "asian/pacific islander           110864\n",
       "black                            648846\n",
       "hispanic                         221777\n",
       "other/unknown                     39858\n",
       "white                            548312"
      ]
     },
     "execution_count": 31,
     "metadata": {},
     "output_type": "execute_result"
    }
   ],
   "source": [
    "#convert the dictionary to dataframe\n",
    "\n",
    "pop_df = pd.DataFrame.from_dict(population_by_race, orient='index').rename(columns={0:'population_size'})\n",
    "pop_df.index.names = ['subject_race']\n",
    "pop_df"
   ]
  },
  {
   "cell_type": "code",
   "execution_count": 39,
   "metadata": {},
   "outputs": [
    {
     "data": {
      "text/html": [
       "<div>\n",
       "<style scoped>\n",
       "    .dataframe tbody tr th:only-of-type {\n",
       "        vertical-align: middle;\n",
       "    }\n",
       "\n",
       "    .dataframe tbody tr th {\n",
       "        vertical-align: top;\n",
       "    }\n",
       "\n",
       "    .dataframe thead th {\n",
       "        text-align: right;\n",
       "    }\n",
       "</style>\n",
       "<table border=\"1\" class=\"dataframe\">\n",
       "  <thead>\n",
       "    <tr style=\"text-align: right;\">\n",
       "      <th></th>\n",
       "      <th>subject_race</th>\n",
       "      <th>total_stops</th>\n",
       "    </tr>\n",
       "  </thead>\n",
       "  <tbody>\n",
       "    <tr>\n",
       "      <td>0</td>\n",
       "      <td>asian/pacific islander</td>\n",
       "      <td>22748</td>\n",
       "    </tr>\n",
       "    <tr>\n",
       "      <td>1</td>\n",
       "      <td>black</td>\n",
       "      <td>688504</td>\n",
       "    </tr>\n",
       "    <tr>\n",
       "      <td>2</td>\n",
       "      <td>hispanic</td>\n",
       "      <td>102708</td>\n",
       "    </tr>\n",
       "    <tr>\n",
       "      <td>3</td>\n",
       "      <td>other</td>\n",
       "      <td>3215</td>\n",
       "    </tr>\n",
       "    <tr>\n",
       "      <td>4</td>\n",
       "      <td>unknown</td>\n",
       "      <td>6585</td>\n",
       "    </tr>\n",
       "    <tr>\n",
       "      <td>5</td>\n",
       "      <td>white</td>\n",
       "      <td>224815</td>\n",
       "    </tr>\n",
       "  </tbody>\n",
       "</table>\n",
       "</div>"
      ],
      "text/plain": [
       "             subject_race  total_stops\n",
       "0  asian/pacific islander        22748\n",
       "1                   black       688504\n",
       "2                hispanic       102708\n",
       "3                   other         3215\n",
       "4                 unknown         6585\n",
       "5                   white       224815"
      ]
     },
     "execution_count": 39,
     "metadata": {},
     "output_type": "execute_result"
    }
   ],
   "source": [
    "#merge stops and population\n",
    "\n",
    "\n",
    "num_stops = data.groupby(['subject_race']).size().reset_index(name='total_stops')\n",
    "num_stops"
   ]
  },
  {
   "cell_type": "code",
   "execution_count": 49,
   "metadata": {},
   "outputs": [
    {
     "data": {
      "text/html": [
       "<div>\n",
       "<style scoped>\n",
       "    .dataframe tbody tr th:only-of-type {\n",
       "        vertical-align: middle;\n",
       "    }\n",
       "\n",
       "    .dataframe tbody tr th {\n",
       "        vertical-align: top;\n",
       "    }\n",
       "\n",
       "    .dataframe thead th {\n",
       "        text-align: right;\n",
       "    }\n",
       "</style>\n",
       "<table border=\"1\" class=\"dataframe\">\n",
       "  <thead>\n",
       "    <tr style=\"text-align: right;\">\n",
       "      <th>subject_race</th>\n",
       "      <th>asian/pacific islander</th>\n",
       "      <th>black</th>\n",
       "      <th>hispanic</th>\n",
       "      <th>other</th>\n",
       "      <th>unknown</th>\n",
       "      <th>white</th>\n",
       "    </tr>\n",
       "  </thead>\n",
       "  <tbody>\n",
       "    <tr>\n",
       "      <td>total_stops</td>\n",
       "      <td>22748</td>\n",
       "      <td>688504</td>\n",
       "      <td>102708</td>\n",
       "      <td>3215</td>\n",
       "      <td>6585</td>\n",
       "      <td>224815</td>\n",
       "    </tr>\n",
       "  </tbody>\n",
       "</table>\n",
       "</div>"
      ],
      "text/plain": [
       "subject_race  asian/pacific islander   black  hispanic  other  unknown   white\n",
       "total_stops                    22748  688504    102708   3215     6585  224815"
      ]
     },
     "execution_count": 49,
     "metadata": {},
     "output_type": "execute_result"
    }
   ],
   "source": [
    "stops_pivot = pd.pivot_table(num_stops, columns='subject_race', values='total_stops')\n",
    "stops_pivot"
   ]
  },
  {
   "cell_type": "code",
   "execution_count": 54,
   "metadata": {},
   "outputs": [
    {
     "data": {
      "text/html": [
       "<div>\n",
       "<style scoped>\n",
       "    .dataframe tbody tr th:only-of-type {\n",
       "        vertical-align: middle;\n",
       "    }\n",
       "\n",
       "    .dataframe tbody tr th {\n",
       "        vertical-align: top;\n",
       "    }\n",
       "\n",
       "    .dataframe thead th {\n",
       "        text-align: right;\n",
       "    }\n",
       "</style>\n",
       "<table border=\"1\" class=\"dataframe\">\n",
       "  <thead>\n",
       "    <tr style=\"text-align: right;\">\n",
       "      <th>subject_race</th>\n",
       "      <th>asian/pacific islander</th>\n",
       "      <th>black</th>\n",
       "      <th>hispanic</th>\n",
       "      <th>other</th>\n",
       "      <th>unknown</th>\n",
       "      <th>white</th>\n",
       "      <th>other/unknown</th>\n",
       "    </tr>\n",
       "  </thead>\n",
       "  <tbody>\n",
       "    <tr>\n",
       "      <td>total_stops</td>\n",
       "      <td>22748</td>\n",
       "      <td>688504</td>\n",
       "      <td>102708</td>\n",
       "      <td>3215</td>\n",
       "      <td>6585</td>\n",
       "      <td>224815</td>\n",
       "      <td>9800</td>\n",
       "    </tr>\n",
       "  </tbody>\n",
       "</table>\n",
       "</div>"
      ],
      "text/plain": [
       "subject_race  asian/pacific islander   black  hispanic  other  unknown  \\\n",
       "total_stops                    22748  688504    102708   3215     6585   \n",
       "\n",
       "subject_race   white  other/unknown  \n",
       "total_stops   224815           9800  "
      ]
     },
     "execution_count": 54,
     "metadata": {},
     "output_type": "execute_result"
    }
   ],
   "source": [
    "stops_pivot['other/unknown'] = stops_pivot.other + stops_pivot.unknown\n",
    "stops_pivot"
   ]
  },
  {
   "cell_type": "code",
   "execution_count": 61,
   "metadata": {},
   "outputs": [
    {
     "data": {
      "text/html": [
       "<div>\n",
       "<style scoped>\n",
       "    .dataframe tbody tr th:only-of-type {\n",
       "        vertical-align: middle;\n",
       "    }\n",
       "\n",
       "    .dataframe tbody tr th {\n",
       "        vertical-align: top;\n",
       "    }\n",
       "\n",
       "    .dataframe thead th {\n",
       "        text-align: right;\n",
       "    }\n",
       "</style>\n",
       "<table border=\"1\" class=\"dataframe\">\n",
       "  <thead>\n",
       "    <tr style=\"text-align: right;\">\n",
       "      <th>subject_race</th>\n",
       "      <th>asian/pacific islander</th>\n",
       "      <th>black</th>\n",
       "      <th>hispanic</th>\n",
       "      <th>white</th>\n",
       "      <th>other/unknown</th>\n",
       "    </tr>\n",
       "  </thead>\n",
       "  <tbody>\n",
       "    <tr>\n",
       "      <td>total_stops</td>\n",
       "      <td>22748</td>\n",
       "      <td>688504</td>\n",
       "      <td>102708</td>\n",
       "      <td>224815</td>\n",
       "      <td>9800</td>\n",
       "    </tr>\n",
       "  </tbody>\n",
       "</table>\n",
       "</div>"
      ],
      "text/plain": [
       "subject_race  asian/pacific islander   black  hispanic   white  other/unknown\n",
       "total_stops                    22748  688504    102708  224815           9800"
      ]
     },
     "execution_count": 61,
     "metadata": {},
     "output_type": "execute_result"
    }
   ],
   "source": [
    "stops= stops_pivot.drop(['other','unknown'], axis=1)\n",
    "stops"
   ]
  },
  {
   "cell_type": "code",
   "execution_count": 74,
   "metadata": {},
   "outputs": [
    {
     "data": {
      "text/html": [
       "<div>\n",
       "<style scoped>\n",
       "    .dataframe tbody tr th:only-of-type {\n",
       "        vertical-align: middle;\n",
       "    }\n",
       "\n",
       "    .dataframe tbody tr th {\n",
       "        vertical-align: top;\n",
       "    }\n",
       "\n",
       "    .dataframe thead th {\n",
       "        text-align: right;\n",
       "    }\n",
       "</style>\n",
       "<table border=\"1\" class=\"dataframe\">\n",
       "  <thead>\n",
       "    <tr style=\"text-align: right;\">\n",
       "      <th>subject_race</th>\n",
       "      <th>asian</th>\n",
       "      <th>black</th>\n",
       "      <th>hispanic</th>\n",
       "      <th>white</th>\n",
       "      <th>other</th>\n",
       "    </tr>\n",
       "  </thead>\n",
       "  <tbody>\n",
       "    <tr>\n",
       "      <td>total_stops</td>\n",
       "      <td>22748</td>\n",
       "      <td>688504</td>\n",
       "      <td>102708</td>\n",
       "      <td>224815</td>\n",
       "      <td>9800</td>\n",
       "    </tr>\n",
       "  </tbody>\n",
       "</table>\n",
       "</div>"
      ],
      "text/plain": [
       "subject_race  asian   black  hispanic   white  other\n",
       "total_stops   22748  688504    102708  224815   9800"
      ]
     },
     "execution_count": 74,
     "metadata": {},
     "output_type": "execute_result"
    }
   ],
   "source": [
    "#Renaming some columns\n",
    "\n",
    "stops_volume = stops.rename(columns={'other/unknown': 'other', 'asian/pacific islander':'asian'})\n",
    "stops_volume"
   ]
  },
  {
   "cell_type": "code",
   "execution_count": 67,
   "metadata": {},
   "outputs": [
    {
     "data": {
      "text/html": [
       "<div>\n",
       "<style scoped>\n",
       "    .dataframe tbody tr th:only-of-type {\n",
       "        vertical-align: middle;\n",
       "    }\n",
       "\n",
       "    .dataframe tbody tr th {\n",
       "        vertical-align: top;\n",
       "    }\n",
       "\n",
       "    .dataframe thead th {\n",
       "        text-align: right;\n",
       "    }\n",
       "</style>\n",
       "<table border=\"1\" class=\"dataframe\">\n",
       "  <thead>\n",
       "    <tr style=\"text-align: right;\">\n",
       "      <th>subject_race</th>\n",
       "      <th>asian/pacific islander</th>\n",
       "      <th>black</th>\n",
       "      <th>hispanic</th>\n",
       "      <th>other/unknown</th>\n",
       "      <th>white</th>\n",
       "    </tr>\n",
       "  </thead>\n",
       "  <tbody>\n",
       "    <tr>\n",
       "      <td>population_size</td>\n",
       "      <td>110864</td>\n",
       "      <td>648846</td>\n",
       "      <td>221777</td>\n",
       "      <td>39858</td>\n",
       "      <td>548312</td>\n",
       "    </tr>\n",
       "  </tbody>\n",
       "</table>\n",
       "</div>"
      ],
      "text/plain": [
       "subject_race     asian/pacific islander   black  hispanic  other/unknown  \\\n",
       "population_size                  110864  648846    221777          39858   \n",
       "\n",
       "subject_race      white  \n",
       "population_size  548312  "
      ]
     },
     "execution_count": 67,
     "metadata": {},
     "output_type": "execute_result"
    }
   ],
   "source": [
    "#Reshaping the population df\n",
    "\n",
    "pop_df1 = pd.pivot_table(pop_df, columns='subject_race', values='population_size')\n",
    "pop_df1"
   ]
  },
  {
   "cell_type": "code",
   "execution_count": 72,
   "metadata": {},
   "outputs": [],
   "source": [
    "\n",
    "pop_volume = pop_df1.rename(columns={'other/unknown': 'other', 'asian/pacific islander':'asian'})"
   ]
  },
  {
   "cell_type": "code",
   "execution_count": 73,
   "metadata": {},
   "outputs": [
    {
     "data": {
      "text/html": [
       "<div>\n",
       "<style scoped>\n",
       "    .dataframe tbody tr th:only-of-type {\n",
       "        vertical-align: middle;\n",
       "    }\n",
       "\n",
       "    .dataframe tbody tr th {\n",
       "        vertical-align: top;\n",
       "    }\n",
       "\n",
       "    .dataframe thead th {\n",
       "        text-align: right;\n",
       "    }\n",
       "</style>\n",
       "<table border=\"1\" class=\"dataframe\">\n",
       "  <thead>\n",
       "    <tr style=\"text-align: right;\">\n",
       "      <th>subject_race</th>\n",
       "      <th>asian</th>\n",
       "      <th>black</th>\n",
       "      <th>hispanic</th>\n",
       "      <th>other</th>\n",
       "      <th>white</th>\n",
       "    </tr>\n",
       "  </thead>\n",
       "  <tbody>\n",
       "    <tr>\n",
       "      <td>population_size</td>\n",
       "      <td>110864</td>\n",
       "      <td>648846</td>\n",
       "      <td>221777</td>\n",
       "      <td>39858</td>\n",
       "      <td>548312</td>\n",
       "    </tr>\n",
       "  </tbody>\n",
       "</table>\n",
       "</div>"
      ],
      "text/plain": [
       "subject_race      asian   black  hispanic  other   white\n",
       "population_size  110864  648846    221777  39858  548312"
      ]
     },
     "execution_count": 73,
     "metadata": {},
     "output_type": "execute_result"
    }
   ],
   "source": [
    "pop_volume"
   ]
  },
  {
   "cell_type": "code",
   "execution_count": 78,
   "metadata": {},
   "outputs": [
    {
     "data": {
      "text/html": [
       "<div>\n",
       "<style scoped>\n",
       "    .dataframe tbody tr th:only-of-type {\n",
       "        vertical-align: middle;\n",
       "    }\n",
       "\n",
       "    .dataframe tbody tr th {\n",
       "        vertical-align: top;\n",
       "    }\n",
       "\n",
       "    .dataframe thead th {\n",
       "        text-align: right;\n",
       "    }\n",
       "</style>\n",
       "<table border=\"1\" class=\"dataframe\">\n",
       "  <thead>\n",
       "    <tr style=\"text-align: right;\">\n",
       "      <th></th>\n",
       "      <th>asian</th>\n",
       "      <th>black</th>\n",
       "      <th>hispanic</th>\n",
       "      <th>other</th>\n",
       "      <th>white</th>\n",
       "    </tr>\n",
       "  </thead>\n",
       "  <tbody>\n",
       "    <tr>\n",
       "      <td>population_size</td>\n",
       "      <td>110864</td>\n",
       "      <td>648846</td>\n",
       "      <td>221777</td>\n",
       "      <td>39858</td>\n",
       "      <td>548312</td>\n",
       "    </tr>\n",
       "    <tr>\n",
       "      <td>total_stops</td>\n",
       "      <td>22748</td>\n",
       "      <td>688504</td>\n",
       "      <td>102708</td>\n",
       "      <td>9800</td>\n",
       "      <td>224815</td>\n",
       "    </tr>\n",
       "  </tbody>\n",
       "</table>\n",
       "</div>"
      ],
      "text/plain": [
       "                  asian   black  hispanic  other   white\n",
       "population_size  110864  648846    221777  39858  548312\n",
       "total_stops       22748  688504    102708   9800  224815"
      ]
     },
     "execution_count": 78,
     "metadata": {},
     "output_type": "execute_result"
    }
   ],
   "source": [
    "#matching the stops to populaion sizes for each race\n",
    "\n",
    "stops_and_population = pd.concat([pop_volume, stops_volume], axis=0, sort=True)\n",
    "stops_and_population"
   ]
  },
  {
   "cell_type": "code",
   "execution_count": 95,
   "metadata": {},
   "outputs": [],
   "source": [
    "stops_and_population2 = stops_and_population.reset_index()"
   ]
  },
  {
   "cell_type": "code",
   "execution_count": 96,
   "metadata": {},
   "outputs": [],
   "source": [
    "stops_and_population3 = stops_and_population2.rename(columns={'index':'category'})"
   ]
  },
  {
   "cell_type": "code",
   "execution_count": 97,
   "metadata": {},
   "outputs": [
    {
     "data": {
      "text/html": [
       "<div>\n",
       "<style scoped>\n",
       "    .dataframe tbody tr th:only-of-type {\n",
       "        vertical-align: middle;\n",
       "    }\n",
       "\n",
       "    .dataframe tbody tr th {\n",
       "        vertical-align: top;\n",
       "    }\n",
       "\n",
       "    .dataframe thead th {\n",
       "        text-align: right;\n",
       "    }\n",
       "</style>\n",
       "<table border=\"1\" class=\"dataframe\">\n",
       "  <thead>\n",
       "    <tr style=\"text-align: right;\">\n",
       "      <th></th>\n",
       "      <th>category</th>\n",
       "      <th>asian</th>\n",
       "      <th>black</th>\n",
       "      <th>hispanic</th>\n",
       "      <th>other</th>\n",
       "      <th>white</th>\n",
       "    </tr>\n",
       "  </thead>\n",
       "  <tbody>\n",
       "    <tr>\n",
       "      <td>0</td>\n",
       "      <td>population_size</td>\n",
       "      <td>110864</td>\n",
       "      <td>648846</td>\n",
       "      <td>221777</td>\n",
       "      <td>39858</td>\n",
       "      <td>548312</td>\n",
       "    </tr>\n",
       "    <tr>\n",
       "      <td>1</td>\n",
       "      <td>total_stops</td>\n",
       "      <td>22748</td>\n",
       "      <td>688504</td>\n",
       "      <td>102708</td>\n",
       "      <td>9800</td>\n",
       "      <td>224815</td>\n",
       "    </tr>\n",
       "  </tbody>\n",
       "</table>\n",
       "</div>"
      ],
      "text/plain": [
       "          category   asian   black  hispanic  other   white\n",
       "0  population_size  110864  648846    221777  39858  548312\n",
       "1      total_stops   22748  688504    102708   9800  224815"
      ]
     },
     "execution_count": 97,
     "metadata": {},
     "output_type": "execute_result"
    }
   ],
   "source": [
    "stops_and_population3"
   ]
  },
  {
   "cell_type": "code",
   "execution_count": 99,
   "metadata": {},
   "outputs": [
    {
     "data": {
      "text/html": [
       "<div>\n",
       "<style scoped>\n",
       "    .dataframe tbody tr th:only-of-type {\n",
       "        vertical-align: middle;\n",
       "    }\n",
       "\n",
       "    .dataframe tbody tr th {\n",
       "        vertical-align: top;\n",
       "    }\n",
       "\n",
       "    .dataframe thead th {\n",
       "        text-align: right;\n",
       "    }\n",
       "</style>\n",
       "<table border=\"1\" class=\"dataframe\">\n",
       "  <thead>\n",
       "    <tr style=\"text-align: right;\">\n",
       "      <th>category</th>\n",
       "      <th>population_size</th>\n",
       "      <th>total_stops</th>\n",
       "    </tr>\n",
       "  </thead>\n",
       "  <tbody>\n",
       "    <tr>\n",
       "      <td>asian</td>\n",
       "      <td>110864</td>\n",
       "      <td>22748</td>\n",
       "    </tr>\n",
       "    <tr>\n",
       "      <td>black</td>\n",
       "      <td>648846</td>\n",
       "      <td>688504</td>\n",
       "    </tr>\n",
       "    <tr>\n",
       "      <td>hispanic</td>\n",
       "      <td>221777</td>\n",
       "      <td>102708</td>\n",
       "    </tr>\n",
       "    <tr>\n",
       "      <td>other</td>\n",
       "      <td>39858</td>\n",
       "      <td>9800</td>\n",
       "    </tr>\n",
       "    <tr>\n",
       "      <td>white</td>\n",
       "      <td>548312</td>\n",
       "      <td>224815</td>\n",
       "    </tr>\n",
       "  </tbody>\n",
       "</table>\n",
       "</div>"
      ],
      "text/plain": [
       "category  population_size  total_stops\n",
       "asian              110864        22748\n",
       "black              648846       688504\n",
       "hispanic           221777       102708\n",
       "other               39858         9800\n",
       "white              548312       224815"
      ]
     },
     "execution_count": 99,
     "metadata": {},
     "output_type": "execute_result"
    }
   ],
   "source": [
    "#Ratio of stops to population\n",
    "stops_and_population4 = pd.pivot_table(stops_and_population3, columns='category')\n",
    "stops_and_population4"
   ]
  },
  {
   "cell_type": "code",
   "execution_count": 104,
   "metadata": {},
   "outputs": [],
   "source": [
    "stops_and_population4['stop_rate'] = (stops_and_population4.total_stops/stops_and_population4.population_size) "
   ]
  },
  {
   "cell_type": "code",
   "execution_count": 105,
   "metadata": {},
   "outputs": [
    {
     "data": {
      "text/html": [
       "<div>\n",
       "<style scoped>\n",
       "    .dataframe tbody tr th:only-of-type {\n",
       "        vertical-align: middle;\n",
       "    }\n",
       "\n",
       "    .dataframe tbody tr th {\n",
       "        vertical-align: top;\n",
       "    }\n",
       "\n",
       "    .dataframe thead th {\n",
       "        text-align: right;\n",
       "    }\n",
       "</style>\n",
       "<table border=\"1\" class=\"dataframe\">\n",
       "  <thead>\n",
       "    <tr style=\"text-align: right;\">\n",
       "      <th>category</th>\n",
       "      <th>population_size</th>\n",
       "      <th>total_stops</th>\n",
       "      <th>stop_rate</th>\n",
       "    </tr>\n",
       "  </thead>\n",
       "  <tbody>\n",
       "    <tr>\n",
       "      <td>asian</td>\n",
       "      <td>110864</td>\n",
       "      <td>22748</td>\n",
       "      <td>0.205188</td>\n",
       "    </tr>\n",
       "    <tr>\n",
       "      <td>black</td>\n",
       "      <td>648846</td>\n",
       "      <td>688504</td>\n",
       "      <td>1.061121</td>\n",
       "    </tr>\n",
       "    <tr>\n",
       "      <td>hispanic</td>\n",
       "      <td>221777</td>\n",
       "      <td>102708</td>\n",
       "      <td>0.463114</td>\n",
       "    </tr>\n",
       "    <tr>\n",
       "      <td>other</td>\n",
       "      <td>39858</td>\n",
       "      <td>9800</td>\n",
       "      <td>0.245873</td>\n",
       "    </tr>\n",
       "    <tr>\n",
       "      <td>white</td>\n",
       "      <td>548312</td>\n",
       "      <td>224815</td>\n",
       "      <td>0.410013</td>\n",
       "    </tr>\n",
       "  </tbody>\n",
       "</table>\n",
       "</div>"
      ],
      "text/plain": [
       "category  population_size  total_stops  stop_rate\n",
       "asian              110864        22748   0.205188\n",
       "black              648846       688504   1.061121\n",
       "hispanic           221777       102708   0.463114\n",
       "other               39858         9800   0.245873\n",
       "white              548312       224815   0.410013"
      ]
     },
     "execution_count": 105,
     "metadata": {},
     "output_type": "execute_result"
    }
   ],
   "source": [
    "stops_and_population4"
   ]
  },
  {
   "cell_type": "markdown",
   "metadata": {},
   "source": [
    "## Some Insights:\n",
    "\n",
    "### A person's race is a significant factor in whether or not they are stopped by traffic police \n",
    "   - Blacks are 106% times more likely to be stopped\n",
    "   - Whites are 41% times more likely to be stopped \n",
    "   - Asians least likely to be stopped (20%) "
   ]
  },
  {
   "cell_type": "markdown",
   "metadata": {},
   "source": [
    "### Are younger people stopped more?"
   ]
  },
  {
   "cell_type": "code",
   "execution_count": 149,
   "metadata": {},
   "outputs": [],
   "source": [
    "#Let's create age groups\n",
    "\n",
    "data['age_grp'] = np.where(data.subject_age <= 18, 'Minor',\n",
    "                          np.where(data.subject_age <= 65,'adult','senior'))"
   ]
  },
  {
   "cell_type": "code",
   "execution_count": 153,
   "metadata": {},
   "outputs": [
    {
     "data": {
      "text/plain": [
       "age_grp\n",
       "Minor      52523\n",
       "adult     971341\n",
       "senior     24711\n",
       "dtype: int64"
      ]
     },
     "execution_count": 153,
     "metadata": {},
     "output_type": "execute_result"
    }
   ],
   "source": [
    "data.groupby('age_grp').size()"
   ]
  },
  {
   "cell_type": "code",
   "execution_count": 154,
   "metadata": {},
   "outputs": [
    {
     "data": {
      "text/plain": [
       "adult     0.926344\n",
       "Minor     0.050090\n",
       "senior    0.023566\n",
       "Name: age_grp, dtype: float64"
      ]
     },
     "execution_count": 154,
     "metadata": {},
     "output_type": "execute_result"
    }
   ],
   "source": [
    "data['age_grp'].value_counts(normalize = True)"
   ]
  },
  {
   "cell_type": "markdown",
   "metadata": {},
   "source": [
    "### Of those stopped, how many are arrested?"
   ]
  },
  {
   "cell_type": "code",
   "execution_count": 119,
   "metadata": {},
   "outputs": [
    {
     "data": {
      "text/plain": [
       "NaN       990462\n",
       "arrest     58113\n",
       "Name: outcome, dtype: int64"
      ]
     },
     "execution_count": 119,
     "metadata": {},
     "output_type": "execute_result"
    }
   ],
   "source": [
    "#checking the 'outcome' column to better understand the data\n",
    "\n",
    "data.outcome.value_counts(dropna=False)"
   ]
  },
  {
   "cell_type": "code",
   "execution_count": 130,
   "metadata": {},
   "outputs": [],
   "source": [
    "#replace nan with zeros\n",
    "\n",
    "data_clean = data.outcome.fillna(0)"
   ]
  },
  {
   "cell_type": "code",
   "execution_count": null,
   "metadata": {},
   "outputs": [],
   "source": [
    "df[['a', 'b']] = df[['a','b']].fillna(value=0)"
   ]
  },
  {
   "cell_type": "code",
   "execution_count": 131,
   "metadata": {},
   "outputs": [],
   "source": [
    "data[['outcome']] = data[['outcome']].fillna(value=0)"
   ]
  },
  {
   "cell_type": "code",
   "execution_count": 135,
   "metadata": {},
   "outputs": [
    {
     "data": {
      "text/plain": [
       "0    arrest\n",
       "1    arrest\n",
       "2         0\n",
       "3         0\n",
       "4         0\n",
       "Name: outcome, dtype: object"
      ]
     },
     "execution_count": 135,
     "metadata": {},
     "output_type": "execute_result"
    }
   ],
   "source": [
    "data['outcome'].head()"
   ]
  },
  {
   "cell_type": "code",
   "execution_count": 139,
   "metadata": {},
   "outputs": [],
   "source": [
    "#Create new 'arrest' column\n",
    "\n",
    "data['arrest']= np.where(data.outcome == 'arrest',1,0)"
   ]
  },
  {
   "cell_type": "code",
   "execution_count": 140,
   "metadata": {},
   "outputs": [
    {
     "data": {
      "text/html": [
       "<div>\n",
       "<style scoped>\n",
       "    .dataframe tbody tr th:only-of-type {\n",
       "        vertical-align: middle;\n",
       "    }\n",
       "\n",
       "    .dataframe tbody tr th {\n",
       "        vertical-align: top;\n",
       "    }\n",
       "\n",
       "    .dataframe thead th {\n",
       "        text-align: right;\n",
       "    }\n",
       "</style>\n",
       "<table border=\"1\" class=\"dataframe\">\n",
       "  <thead>\n",
       "    <tr style=\"text-align: right;\">\n",
       "      <th></th>\n",
       "      <th>outcome</th>\n",
       "      <th>arrest</th>\n",
       "    </tr>\n",
       "  </thead>\n",
       "  <tbody>\n",
       "    <tr>\n",
       "      <td>0</td>\n",
       "      <td>arrest</td>\n",
       "      <td>1</td>\n",
       "    </tr>\n",
       "    <tr>\n",
       "      <td>1</td>\n",
       "      <td>arrest</td>\n",
       "      <td>1</td>\n",
       "    </tr>\n",
       "    <tr>\n",
       "      <td>2</td>\n",
       "      <td>0</td>\n",
       "      <td>0</td>\n",
       "    </tr>\n",
       "    <tr>\n",
       "      <td>3</td>\n",
       "      <td>0</td>\n",
       "      <td>0</td>\n",
       "    </tr>\n",
       "    <tr>\n",
       "      <td>4</td>\n",
       "      <td>0</td>\n",
       "      <td>0</td>\n",
       "    </tr>\n",
       "    <tr>\n",
       "      <td>5</td>\n",
       "      <td>0</td>\n",
       "      <td>0</td>\n",
       "    </tr>\n",
       "    <tr>\n",
       "      <td>6</td>\n",
       "      <td>0</td>\n",
       "      <td>0</td>\n",
       "    </tr>\n",
       "    <tr>\n",
       "      <td>7</td>\n",
       "      <td>0</td>\n",
       "      <td>0</td>\n",
       "    </tr>\n",
       "    <tr>\n",
       "      <td>8</td>\n",
       "      <td>0</td>\n",
       "      <td>0</td>\n",
       "    </tr>\n",
       "    <tr>\n",
       "      <td>9</td>\n",
       "      <td>0</td>\n",
       "      <td>0</td>\n",
       "    </tr>\n",
       "  </tbody>\n",
       "</table>\n",
       "</div>"
      ],
      "text/plain": [
       "  outcome  arrest\n",
       "0  arrest       1\n",
       "1  arrest       1\n",
       "2       0       0\n",
       "3       0       0\n",
       "4       0       0\n",
       "5       0       0\n",
       "6       0       0\n",
       "7       0       0\n",
       "8       0       0\n",
       "9       0       0"
      ]
     },
     "execution_count": 140,
     "metadata": {},
     "output_type": "execute_result"
    }
   ],
   "source": [
    "data[['outcome','arrest']].head(10)"
   ]
  },
  {
   "cell_type": "code",
   "execution_count": 143,
   "metadata": {},
   "outputs": [
    {
     "data": {
      "text/plain": [
       "0.055420928402832415"
      ]
     },
     "execution_count": 143,
     "metadata": {},
     "output_type": "execute_result"
    }
   ],
   "source": [
    "data.arrest.sum()/len(data.arrest)"
   ]
  },
  {
   "cell_type": "markdown",
   "metadata": {},
   "source": [
    "##### 5.5 % of those stopped are arrested"
   ]
  }
 ],
 "metadata": {
  "kernelspec": {
   "display_name": "Python 3",
   "language": "python",
   "name": "python3"
  },
  "language_info": {
   "codemirror_mode": {
    "name": "ipython",
    "version": 3
   },
   "file_extension": ".py",
   "mimetype": "text/x-python",
   "name": "python",
   "nbconvert_exporter": "python",
   "pygments_lexer": "ipython3",
   "version": "3.7.4"
  }
 },
 "nbformat": 4,
 "nbformat_minor": 4
}
